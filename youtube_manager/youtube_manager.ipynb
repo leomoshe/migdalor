{
  "nbformat": 4,
  "nbformat_minor": 0,
  "metadata": {
    "colab": {
      "provenance": [],
      "include_colab_link": true
    },
    "kernelspec": {
      "name": "python3",
      "display_name": "Python 3"
    },
    "language_info": {
      "name": "python"
    }
  },
  "cells": [
    {
      "cell_type": "markdown",
      "metadata": {
        "id": "view-in-github",
        "colab_type": "text"
      },
      "source": [
        "<a href=\"https://colab.research.google.com/github/leomoshe/migdalor/blob/main/youtube_manager.ipynb\" target=\"_parent\"><img src=\"https://colab.research.google.com/assets/colab-badge.svg\" alt=\"Open In Colab\"/></a>"
      ]
    },
    {
      "cell_type": "code",
      "source": [
        "!pip install pytube\n",
        "!pip install youtube-transcript-api"
      ],
      "metadata": {
        "id": "kjMpEcFwzeAO",
        "colab": {
          "base_uri": "https://localhost:8080/"
        },
        "outputId": "74428e95-ed95-4502-9ba4-a3e2c7000824"
      },
      "execution_count": 2,
      "outputs": [
        {
          "output_type": "stream",
          "name": "stdout",
          "text": [
            "Collecting pytube\n",
            "  Downloading pytube-15.0.0-py3-none-any.whl (57 kB)\n",
            "\u001b[?25l     \u001b[90m━━━━━━━━━━━━━━━━━━━━━━━━━━━━━━━━━━━━━━━━\u001b[0m \u001b[32m0.0/57.6 kB\u001b[0m \u001b[31m?\u001b[0m eta \u001b[36m-:--:--\u001b[0m\r\u001b[2K     \u001b[91m━━━━━━━━━━━━━━━━━━━━━\u001b[0m\u001b[90m╺\u001b[0m\u001b[90m━━━━━━━━━━━━━━━━━━\u001b[0m \u001b[32m30.7/57.6 kB\u001b[0m \u001b[31m845.2 kB/s\u001b[0m eta \u001b[36m0:00:01\u001b[0m\r\u001b[2K     \u001b[90m━━━━━━━━━━━━━━━━━━━━━━━━━━━━━━━━━━━━━━━━\u001b[0m \u001b[32m57.6/57.6 kB\u001b[0m \u001b[31m937.1 kB/s\u001b[0m eta \u001b[36m0:00:00\u001b[0m\n",
            "\u001b[?25hInstalling collected packages: pytube\n",
            "Successfully installed pytube-15.0.0\n",
            "Collecting youtube-transcript-api\n",
            "  Downloading youtube_transcript_api-0.6.2-py3-none-any.whl (24 kB)\n",
            "Requirement already satisfied: requests in /usr/local/lib/python3.10/dist-packages (from youtube-transcript-api) (2.31.0)\n",
            "Requirement already satisfied: charset-normalizer<4,>=2 in /usr/local/lib/python3.10/dist-packages (from requests->youtube-transcript-api) (3.3.2)\n",
            "Requirement already satisfied: idna<4,>=2.5 in /usr/local/lib/python3.10/dist-packages (from requests->youtube-transcript-api) (3.6)\n",
            "Requirement already satisfied: urllib3<3,>=1.21.1 in /usr/local/lib/python3.10/dist-packages (from requests->youtube-transcript-api) (2.0.7)\n",
            "Requirement already satisfied: certifi>=2017.4.17 in /usr/local/lib/python3.10/dist-packages (from requests->youtube-transcript-api) (2023.11.17)\n",
            "Installing collected packages: youtube-transcript-api\n",
            "Successfully installed youtube-transcript-api-0.6.2\n"
          ]
        }
      ]
    },
    {
      "cell_type": "code",
      "execution_count": 3,
      "metadata": {
        "id": "cZQf8FSCbhcE"
      },
      "outputs": [],
      "source": [
        "import os\n",
        "import sys\n",
        "import json\n",
        "import re\n",
        "from pathlib import Path\n",
        "import argparse\n",
        "import logging\n",
        "import csv\n",
        "import pytube\n",
        "from googleapiclient.discovery import build\n",
        "import youtube_transcript_api\n",
        "from youtube_transcript_api.formatters import SRTFormatter"
      ]
    },
    {
      "cell_type": "code",
      "source": [
        "logging.basicConfig(level=logging.DEBUG, format=f'%(asctime)s %(levelname)s %(name)s %(threadName)s : %(message)s')\n",
        "logger = logging.getLogger(__name__)\n",
        "file_handler = logging.FileHandler(filename=\"youtube_manager.log\", mode='w', encoding='utf-8')\n",
        "console_handler = logging.StreamHandler()\n",
        "logger.addHandler(file_handler)\n",
        "logger.addHandler(console_handler)"
      ],
      "metadata": {
        "id": "JzzWug_i5NWS"
      },
      "execution_count": 4,
      "outputs": []
    },
    {
      "cell_type": "code",
      "source": [
        "class Result:\n",
        "  def __init__(self, value=None, error=None):\n",
        "    self.Value = value\n",
        "    self.Error = error\n"
      ],
      "metadata": {
        "id": "d_imLSYd4GmE"
      },
      "execution_count": null,
      "outputs": []
    },
    {
      "cell_type": "code",
      "source": [
        "def get_youtube_service(api_key):\n",
        "    youtube = build('youtube', 'v3', developerKey=api_key)\n",
        "    return youtube"
      ],
      "metadata": {
        "id": "uF_KtnvTytPb"
      },
      "execution_count": null,
      "outputs": []
    },
    {
      "cell_type": "code",
      "source": [
        "def download_transcript(video_id, output_folder, language=\"iw\"): #iw is Hebrew\n",
        "    result = Result()\n",
        "    try:\n",
        "\n",
        "        transcript_api = youtube_transcript_api.YouTubeTranscriptApi()\n",
        "        transcript = transcript_api.get_transcript(video_id, languages=[language])\n",
        "        formatter = SRTFormatter()\n",
        "\n",
        "        srt = formatter.format_transcript(transcript)\n",
        "        full_path = os.path.normpath(os.path.join(output_folder, f\"{video_id}.srt\"))\n",
        "        # Open a text file in write mode to save the SRT\n",
        "        with open(full_path, \"w\", encoding=\"utf-8\") as file:\n",
        "            file.write(srt)\n",
        "\n",
        "        # Print a confirmation message to indicate successful saving\n",
        "        print(f\"SRT transcript saved to {full_path}\")\n",
        "        result.Value = full_path\n",
        "    except youtube_transcript_api._errors.NoTranscriptFound as e:\n",
        "        print(f\"Failed to retrieve transcript: {e}\")\n",
        "        result.Error = e.CAUSE_MESSAGE.replace('\\n', ';n')\n",
        "    except youtube_transcript_api.CouldNotRetrieveTranscript as e:\n",
        "        print(f\"Failed to retrieve transcript: {e}\")\n",
        "        result.Error = e.cause.replace(',', ';')\n",
        "    except KeyError as e:\n",
        "        print(f\"Failed to retrieve transcript: {e}\")\n",
        "        result.Error = f\"KeyError: {e.args[0]}\".replace(',', ';')\n",
        "    except Exception as e:\n",
        "        print(f\"An error occurred: {e}\")\n",
        "        result.Error = e\n",
        "    return result"
      ],
      "metadata": {
        "id": "MrsCQLiWy2d4"
      },
      "execution_count": null,
      "outputs": []
    },
    {
      "cell_type": "code",
      "source": [
        "def download_video(video_id, output_folder):\n",
        "    result = Result()\n",
        "    url = f'https://www.youtube.com/watch?v={video_id}'\n",
        "    try:\n",
        "        yt = pytube.YouTube(\n",
        "            url,\n",
        "            use_oauth=True,\n",
        "            allow_oauth_cache=True)  # Create a YouTube object\n",
        "        video = yt.streams.first()  # Get the first available stream\n",
        "        print(f\"Downloading video: {video.title}\")\n",
        "        full_path = os.path.normpath(os.path.join(output_folder, f\"{video_id}{Path(video.default_filename).suffix}\"))\n",
        "        video.download(filename=full_path)  # Download the video\n",
        "        title = video.title\n",
        "        print(f\"Download complete: {title}\")\n",
        "        result.Value = title\n",
        "    except pytube.exceptions.AgeRestrictedError as e:\n",
        "        result.Error = e.error_string.replace(',', ';')\n",
        "    except pytube.exceptions.LiveStreamError as e:\n",
        "        result.Error = e.error_string.replace(',', ';')\n",
        "    except Exception as e:\n",
        "        print(f\"Error downloading {url}: {e}\")\n",
        "        result.Error = e\n",
        "    return result\n"
      ],
      "metadata": {
        "id": "kWSP6IJ0EM2-"
      },
      "execution_count": null,
      "outputs": []
    },
    {
      "cell_type": "code",
      "source": [
        "def searchVideosByKeyword(youtube, keyword):\n",
        "    videos = []\n",
        "    pageToken = \"\"\n",
        "    while True:\n",
        "        res = youtube.search().list(\n",
        "            q=keyword,\n",
        "            type='video',\n",
        "            part='id,snippet',\n",
        "            maxResults=50,\n",
        "            pageToken=pageToken if pageToken != \"\" else \"\"\n",
        "        ).execute()\n",
        "        video_items = res.get('items', [])\n",
        "        if video_items:\n",
        "            for video_item in video_items:\n",
        "                if video_item['id']['kind'] == 'youtube#video':\n",
        "                    videos.append({\n",
        "                        'video_id': video_item['id']['videoId'],\n",
        "                        'video_title': video_item['snippet']['title']\n",
        "                    })\n",
        "            #video_response.extend(video_items)\n",
        "        pageToken = res.get('nextPageToken')\n",
        "        if not pageToken:\n",
        "            break\n",
        "    return videos"
      ],
      "metadata": {
        "id": "iLSMJF1_EBrE"
      },
      "execution_count": null,
      "outputs": []
    },
    {
      "cell_type": "code",
      "source": [
        "def main(api_key, keyword, keyword_title) -> None:\n",
        "    report_filename = f\"{keyword_title}_report.csv\"\n",
        "    # Create dest folder\n",
        "    dest_path = keyword_title\n",
        "    Path(dest_path).mkdir(parents=True, exist_ok=True)\n",
        "\n",
        "    # load the videos ids\n",
        "    if os.path.isfile(f\"{keyword_title}.json\"):\n",
        "        with open(f\"{keyword_title}.json\", \"r\", encoding=\"utf-8\") as file:\n",
        "            videos = json.load(file)\n",
        "    else:\n",
        "        youtube = get_youtube_service(api_key)\n",
        "        videos = searchVideosByKeyword(youtube, keyword)\n",
        "        with open(f\"{keyword_title}.json\", \"w\", encoding=\"utf-8\") as file:\n",
        "            file.write(json.dumps(videos))\n",
        "\n",
        "    report_data = []\n",
        "    if os.path.isfile(report_filename):\n",
        "        with open(report_filename, \"r\", encoding=\"utf-8\") as report_file:\n",
        "            reader_file = csv.DictReader(report_file)\n",
        "            for row in reader_file:\n",
        "                report_data.append(row)\n",
        "\n",
        "    with open(report_filename, \"w\", encoding=\"utf-8\") as report_file:\n",
        "        report_file.write(f\"Videoid,Media,Srt\\n\")\n",
        "    for video in videos:\n",
        "        videoid = video[\"video_id\"]\n",
        "        report_item = next((item for item in report_data if item[\"Videoid\"] == videoid), None)\n",
        "        if report_item is None:\n",
        "            report_item = {\"Videoid\": videoid, \"Media\": \"0\", \"Srt\": \"0\"}\n",
        "            report_data.append(report_item)\n",
        "\n",
        "        # download srt\n",
        "        srt_full_path = os.path.join(dest_path, f\"{videoid}.srt\")\n",
        "        if not os.path.isfile(srt_full_path):\n",
        "            result = download_transcript(videoid, keyword_title)\n",
        "            if result.Error is not None:\n",
        "                report_item[\"Srt\"] = result.Error\n",
        "            else:\n",
        "                report_item[\"Srt\"] = \"1\"\n",
        "\n",
        "        # download media\n",
        "        gpp_full_path = os.path.join(dest_path, f\"{videoid}.3gpp\")\n",
        "        mp4_full_path = os.path.join(dest_path, f\"{videoid}.mp4\")\n",
        "        if not os.path.isfile(gpp_full_path) and not os.path.isfile(mp4_full_path):\n",
        "            result = download_video(videoid, keyword_title)\n",
        "            if result.Error is None:\n",
        "                video_title = result.Value\n",
        "                full_path = os.path.join(dest_path, f\"{videoid}.json\")\n",
        "                with open(full_path, \"w\", encoding=\"utf-8\") as file:\n",
        "                    file.write(f'{{\"video_title\": \"{video_title}\"}}')\n",
        "                report_item[\"Media\"] = \"1\"\n",
        "            else:\n",
        "                report_item[\"Media\"] = result.Error\n",
        "\n",
        "        with open(report_filename, \"a\", encoding=\"utf-8\") as report_file:\n",
        "            report_file.write(f'{report_item[\"Videoid\"]},{report_item[\"Media\"]},{report_item[\"Srt\"]}\\n')"
      ],
      "metadata": {
        "id": "J-niJ7iw0vXF"
      },
      "execution_count": null,
      "outputs": []
    },
    {
      "cell_type": "code",
      "source": [
        "logger.info(\"Program running\")\n",
        "api_key = input(\"Api key (https://support.google.com/googleapi/answer/6158862?hl=en): \")\n",
        "keyword = input(\"Keyword, for example'כאן'\")\n",
        "title = input(\"Title, for example 'kan'\")"
      ],
      "metadata": {
        "id": "CHw56ghIDauO"
      },
      "execution_count": null,
      "outputs": []
    },
    {
      "cell_type": "code",
      "source": [
        "main(api_key, keyword, title)"
      ],
      "metadata": {
        "id": "AgVjXm_n5RNn"
      },
      "execution_count": null,
      "outputs": []
    }
  ]
}